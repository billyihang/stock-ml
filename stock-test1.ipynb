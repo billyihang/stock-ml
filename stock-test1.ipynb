{
 "cells": [
  {
   "cell_type": "code",
   "execution_count": 59,
   "metadata": {},
   "outputs": [
    {
     "data": {
      "text/plain": [
       "<module 'stock_funcs' from '/Users/williamyang/Documents/stock-ml/stock_funcs.py'>"
      ]
     },
     "execution_count": 59,
     "metadata": {},
     "output_type": "execute_result"
    }
   ],
   "source": [
    "import pandas as pd\n",
    "import numpy as np\n",
    "import matplotlib.pyplot as plt\n",
    "from datetime import date\n",
    "import yfinance as yf\n",
    "import random \n",
    "import importlib\n",
    "\n",
    "import stock_funcs as sf\n",
    "importlib.reload(sf)\n"
   ]
  },
  {
   "cell_type": "code",
   "execution_count": 7,
   "metadata": {},
   "outputs": [],
   "source": [
    "def get_nasdaq_tickers():\n",
    "    nasdaq_tickers_df = pd.read_csv(\"nasdaqlisted.txt\", sep=\"|\")\n",
    "    return [t for t in nasdaq_tickers_df[\"Symbol\"][:-1].tolist() if not pd.isnull(t)]\n",
    "\n",
    "nasdaq_tickers = get_nasdaq_tickers()"
   ]
  },
  {
   "cell_type": "code",
   "execution_count": 10,
   "metadata": {},
   "outputs": [
    {
     "name": "stdout",
     "output_type": "stream",
     "text": [
      "[*********************100%***********************]  1 of 1 completed\n"
     ]
    }
   ],
   "source": [
    "# Set the start and end date\n",
    "start_date = '1990-01-01'\n",
    "end_date = str(date.today())\n",
    "\n",
    "# Get the data\n",
    "snp = yf.download('SNP', start_date, end_date)\n",
    "snp.index = [str(d)[:10] for d in snp.index]"
   ]
  },
  {
   "cell_type": "code",
   "execution_count": 11,
   "metadata": {},
   "outputs": [],
   "source": [
    "full_data = pd.read_csv(\"full_data.csv\", header=[0,1], index_col=[0])\n",
    "full_data.index = [s[:10] for s in full_data.index]\n",
    "basic_indicators = [s for s in full_data.columns.get_level_values(0).unique().tolist()]"
   ]
  },
  {
   "cell_type": "code",
   "execution_count": 90,
   "metadata": {},
   "outputs": [
    {
     "name": "stderr",
     "output_type": "stream",
     "text": [
      "100%|██████████| 10/10 [01:22<00:00,  8.21s/it]\n"
     ]
    }
   ],
   "source": [
    "slice_data, target_data, dates_data = sf.get_all_sliced_data(full_data, random.sample(nasdaq_tickers, 10), index_fund=snp)"
   ]
  },
  {
   "cell_type": "code",
   "execution_count": 88,
   "metadata": {},
   "outputs": [
    {
     "data": {
      "text/plain": [
       "(10232, 20, 18)"
      ]
     },
     "execution_count": 88,
     "metadata": {},
     "output_type": "execute_result"
    }
   ],
   "source": [
    "np.asarray(slice_data).shape"
   ]
  },
  {
   "cell_type": "code",
   "execution_count": 92,
   "metadata": {},
   "outputs": [],
   "source": [
    "X_train, X_test, y_train, y_test = sf.create_train_test_data(slice_data, target_data, dates_data)"
   ]
  },
  {
   "cell_type": "code",
   "execution_count": 93,
   "metadata": {},
   "outputs": [
    {
     "name": "stdout",
     "output_type": "stream",
     "text": [
      "Epoch 1/15\n",
      "652/652 [==============================] - 1s 2ms/step - loss: nan - accuracy: 0.4924 - val_loss: nan - val_accuracy: 0.4499\n",
      "Epoch 2/15\n",
      "652/652 [==============================] - 1s 1ms/step - loss: nan - accuracy: 0.4919 - val_loss: nan - val_accuracy: 0.4499\n",
      "Epoch 3/15\n",
      "652/652 [==============================] - 1s 1ms/step - loss: nan - accuracy: 0.4919 - val_loss: nan - val_accuracy: 0.4499\n",
      "Epoch 4/15\n",
      "652/652 [==============================] - 1s 1ms/step - loss: nan - accuracy: 0.4919 - val_loss: nan - val_accuracy: 0.4499\n",
      "Epoch 5/15\n",
      "652/652 [==============================] - 1s 1ms/step - loss: nan - accuracy: 0.4919 - val_loss: nan - val_accuracy: 0.4499\n",
      "Epoch 6/15\n",
      "652/652 [==============================] - 1s 1ms/step - loss: nan - accuracy: 0.4919 - val_loss: nan - val_accuracy: 0.4499\n",
      "Epoch 7/15\n",
      "652/652 [==============================] - 1s 1ms/step - loss: nan - accuracy: 0.4919 - val_loss: nan - val_accuracy: 0.4499\n",
      "Epoch 8/15\n",
      "652/652 [==============================] - 1s 1ms/step - loss: nan - accuracy: 0.4919 - val_loss: nan - val_accuracy: 0.4499\n",
      "Epoch 9/15\n",
      "652/652 [==============================] - 1s 1ms/step - loss: nan - accuracy: 0.4919 - val_loss: nan - val_accuracy: 0.4499\n",
      "Epoch 10/15\n",
      "652/652 [==============================] - 1s 1ms/step - loss: nan - accuracy: 0.4919 - val_loss: nan - val_accuracy: 0.4499\n",
      "Epoch 11/15\n",
      "652/652 [==============================] - 1s 1ms/step - loss: nan - accuracy: 0.4919 - val_loss: nan - val_accuracy: 0.4499\n",
      "Epoch 12/15\n",
      "652/652 [==============================] - 1s 1ms/step - loss: nan - accuracy: 0.4919 - val_loss: nan - val_accuracy: 0.4499\n",
      "Epoch 13/15\n",
      "652/652 [==============================] - 1s 1ms/step - loss: nan - accuracy: 0.4919 - val_loss: nan - val_accuracy: 0.4499\n",
      "Epoch 14/15\n",
      "652/652 [==============================] - 1s 1ms/step - loss: nan - accuracy: 0.4919 - val_loss: nan - val_accuracy: 0.4499\n",
      "Epoch 15/15\n",
      "652/652 [==============================] - 1s 1ms/step - loss: nan - accuracy: 0.4919 - val_loss: nan - val_accuracy: 0.4499\n",
      "46/46 - 0s - loss: nan - accuracy: 0.4499 - 46ms/epoch - 1ms/step\n"
     ]
    },
    {
     "data": {
      "image/png": "[encoded data removed]",
      "text/plain": [
       "<Figure size 432x288 with 1 Axes>"
      ]
     },
     "metadata": {
      "needs_background": "light"
     },
     "output_type": "display_data"
    }
   ],
   "source": [
    "model, acc = sf.evaluate_model(X_train, X_test, y_train, y_test)"
   ]
  }
 ],
 "metadata": {
  "kernelspec": {
   "display_name": "Python 3.8.2 ('stock')",
   "language": "python",
   "name": "python3"
  },
  "language_info": {
   "codemirror_mode": {
    "name": "ipython",
    "version": 3
   },
   "file_extension": ".py",
   "mimetype": "text/x-python",
   "name": "python",
   "nbconvert_exporter": "python",
   "pygments_lexer": "ipython3",
   "version": "3.8.2"
  },
  "orig_nbformat": 4,
  "vscode": {
   "interpreter": {
    "hash": "bbafd7bef68217782d92036fe4049854ab76a3941da056f88eb847b1f314cfe8"
   }
  }
 },
 "nbformat": 4,
 "nbformat_minor": 2
}
